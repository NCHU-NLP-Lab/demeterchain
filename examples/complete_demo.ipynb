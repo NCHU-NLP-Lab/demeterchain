{
 "cells": [
  {
   "cell_type": "markdown",
   "metadata": {},
   "source": [
    "# 注意\n",
    "使用colab時請記得將執行階段類型設為GPU"
   ]
  },
  {
   "cell_type": "code",
   "execution_count": null,
   "metadata": {},
   "outputs": [],
   "source": [
    "! git clone https://github.com/NCHU-NLP-Lab/demeterchain.git\n",
    "! pip install demeterchain"
   ]
  },
  {
   "cell_type": "code",
   "execution_count": null,
   "metadata": {},
   "outputs": [],
   "source": [
    "cd demeterchain/examples"
   ]
  },
  {
   "cell_type": "markdown",
   "metadata": {},
   "source": [
    "# 讀取與分割文件"
   ]
  },
  {
   "cell_type": "code",
   "execution_count": 2,
   "metadata": {},
   "outputs": [
    {
     "name": "stderr",
     "output_type": "stream",
     "text": [
      "100%|██████████| 12/12 [00:00<00:00, 21372.25it/s]\n",
      "Created a chunk of size 474, which is longer than the specified 256\n"
     ]
    }
   ],
   "source": [
    "from demeterchain.loaders import TextLoader\n",
    "from demeterchain.splitters import TextSplitter\n",
    "\n",
    "loader = TextLoader('wiki_datas/', glob='*.txt', show_progress=True)\n",
    "documents = loader.load()\n",
    "\n",
    "text_splitter = TextSplitter(separator=\"。\",chunk_size=256, chunk_overlap=64)\n",
    "documents = text_splitter.split_documents(documents)"
   ]
  },
  {
   "cell_type": "code",
   "execution_count": 7,
   "metadata": {},
   "outputs": [
    {
     "data": {
      "text/plain": [
       "[Document(page_content='蘋果樹（學名：Malus domestica）是薔薇科蘋果亞科蘋果屬植物，為落葉喬木，在世界上廣泛種...', metadata={'source': 'wiki_datas/蘋果.txt'}),\n",
       " Document(page_content='\\n\\n蘋果起源於中亞，直到今天當地還可以找到蘋果的野生祖先：新疆野蘋果。蘋果在亞洲和歐洲都有著數千年的...', metadata={'source': 'wiki_datas/蘋果.txt'}),\n",
       " Document(page_content='果實成長期之長短，一般早熟品種為65-87天，中熟品種為90-133天，晚熟品種則為137-168天...', metadata={'source': 'wiki_datas/蘋果.txt'}),\n",
       " Document(page_content='蘋果樹及其果實很容易出現許多真菌、細菌和害蟲問題，這些問題可以通過多種有機和非有機手段加以控制。 2...', metadata={'source': 'wiki_datas/蘋果.txt'}),\n",
       " Document(page_content='智慧型手機（英語：smartphone）是一種既可用來撥打移動電話具有多功能任務處理移動計算的行動裝...', metadata={'source': 'wiki_datas/智慧型手機.txt'}),\n",
       " Document(page_content='\\n\\n隨著行動網際網路發展，行動應用程式市場及行動商務、手機遊戲產業、社交即時通訊網路高度繁榮，產生了...', metadata={'source': 'wiki_datas/智慧型手機.txt'}),\n",
       " Document(page_content='香蕉（學名：Musa × paradisiaca），又名甘蕉、芎蕉、芽蕉，弓蕉（閩南語：king-t...', metadata={'source': 'wiki_datas/香蕉.txt'}),\n",
       " Document(page_content='主要生長於熱帶、亞熱帶地區。原產於亞洲東南部熱帶、亞熱帶地區。佤語稱為「muah nbaex」[2]...', metadata={'source': 'wiki_datas/香蕉.txt'}),\n",
       " Document(page_content='太陽餅，是一種甜餡薄餅，一般內餡是麥芽糖，源起於台中市神岡區社口一帶林家崑派的麥芽餅，是台灣台中市的...', metadata={'source': 'wiki_datas/太陽餅.txt'}),\n",
       " Document(page_content='草莓（學名：Fragaria × ananassa），中國大陸和台灣稱草莓，在香港常稱為士多啤梨（英...', metadata={'source': 'wiki_datas/草莓.txt'}),\n",
       " Document(page_content='冰箱[註 1]，是以低溫保存食物等物品的機械設備。工業用冰箱適用於工業環境，如餐廳、食品加工和超市。...', metadata={'source': 'wiki_datas/冰箱.txt'}),\n",
       " Document(page_content='筆記型電腦（英語：notebook computer）又稱膝上電腦（laptop computer）...', metadata={'source': 'wiki_datas/筆記型電腦.txt'}),\n",
       " Document(page_content='為了要縮小體積，筆記型電腦通常需要有液晶顯示器（液晶螢幕），部分機種還有觸控螢幕。除了鍵盤以外，筆記...', metadata={'source': 'wiki_datas/筆記型電腦.txt'}),\n",
       " Document(page_content='商務型筆記型電腦（business notebook）的設計強調可攜式性優秀、電池續航時間長，功能上...', metadata={'source': 'wiki_datas/筆記型電腦.txt'}),\n",
       " Document(page_content='\\n\\n截至2022年5月9日，2022年一季度全球筆記型電腦占有率最高的5位廠商（按市場佔有率降序排列...', metadata={'source': 'wiki_datas/筆記型電腦.txt'}),\n",
       " Document(page_content='稻（學名：Oryza sativa），古稱禾稻[1]，其果實為可作為糧食食用部位，稱米，是禾本科稻屬...', metadata={'source': 'wiki_datas/水稻.txt'}),\n",
       " Document(page_content='[3]全世界有半數以上人口以水稻為主食[4]。其基因組由12條染色體上的4.3億個核鹼基對組成，也是...', metadata={'source': 'wiki_datas/水稻.txt'}),\n",
       " Document(page_content='民主進步黨（英語：Democratic Progressive Party，縮寫DPP），簡稱民進黨...', metadata={'source': 'wiki_datas/民主進步黨.txt'}),\n",
       " Document(page_content='2016年總統選舉後再度執政，同時在立委選舉取得過半席次，首度達成該黨同時掌握行政權和立法權的「完全...', metadata={'source': 'wiki_datas/民主進步黨.txt'}),\n",
       " Document(page_content='國立中興大學（簡稱興大、NCHU），是一所校本部位於台灣臺中市南區的國立研究型綜合大學，起源自臺灣總...', metadata={'source': 'wiki_datas/中興大學.txt'}),\n",
       " Document(page_content='興大也與臺中市政府合作，簽訂合作意向書，共同推動數位文化、智慧城市帶動區域發展。目前共有12間學院與...', metadata={'source': 'wiki_datas/中興大學.txt'}),\n",
       " Document(page_content='鳳梨（Ananas comosus），俗名菠蘿、露兜子[1]，是原產於南美洲的熱帶水果，為禾本目鳳梨...', metadata={'source': 'wiki_datas/鳳梨.txt'}),\n",
       " Document(page_content='國立臺灣大學，簡稱臺灣大學、臺大、NTU，1928年創立於臺灣臺北市，是臺灣第一所高等教育機構，也是...', metadata={'source': 'wiki_datas/臺灣大學.txt'}),\n",
       " Document(page_content='其擁有臺北市境內的3大校區、以及多處散布於全臺的分支校區與校地[15]，總面積超過340平方公里（3...', metadata={'source': 'wiki_datas/臺灣大學.txt'}),\n",
       " Document(page_content='\\n\\n臺大為中華民國政府的高等教育深耕計畫中參與全球鏈結全校型計畫的4所學校之一[16][17]，現時...', metadata={'source': 'wiki_datas/臺灣大學.txt'}),\n",
       " Document(page_content='\\n\\n臺大以自由主義學風著稱，並在臺灣各高等院校中具有重要學術地位[23]。校友涵蓋4名中華民國總統、...', metadata={'source': 'wiki_datas/臺灣大學.txt'}),\n",
       " Document(page_content='在另一方面，校內超過一半的學生來自臺北市及新北市[26][27]；逾90%的學生來自家庭年收入位居臺...', metadata={'source': 'wiki_datas/臺灣大學.txt'})]"
      ]
     },
     "execution_count": 7,
     "metadata": {},
     "output_type": "execute_result"
    }
   ],
   "source": [
    "documents"
   ]
  },
  {
   "cell_type": "markdown",
   "metadata": {},
   "source": [
    "# 設定retriever"
   ]
  },
  {
   "cell_type": "code",
   "execution_count": 3,
   "metadata": {},
   "outputs": [
    {
     "name": "stdout",
     "output_type": "stream",
     "text": [
      "[sudo] password for 111_ms_wenchuan: \n",
      "[sudo] password for 111_ms_wenchuan: "
     ]
    }
   ],
   "source": [
    "# 安裝jdk-11，如果使用jupyter notebook時無法輸入密碼，請將以下命令複製到terminal執行\n",
    "! sudo apt-get update\n",
    "! sudo apt-get install openjdk-11-jdk"
   ]
  },
  {
   "cell_type": "code",
   "execution_count": null,
   "metadata": {},
   "outputs": [],
   "source": [
    "# 安裝pyserini\n",
    "! pip install --upgrade pip\n",
    "! pip install faiss-cpu==1.7.4 pyserini==0.22.1"
   ]
  },
  {
   "cell_type": "code",
   "execution_count": 3,
   "metadata": {},
   "outputs": [
    {
     "name": "stdout",
     "output_type": "stream",
     "text": [
      "WARNING: sun.reflect.Reflection.getCallerClass is not supported. This will impact performance.\n",
      "2024-06-18 16:37:09,434 INFO  [main] index.IndexCollection (IndexCollection.java:380) - Setting log level to INFO\n",
      "2024-06-18 16:37:09,434 INFO  [main] index.IndexCollection (IndexCollection.java:383) - Starting indexer...\n",
      "2024-06-18 16:37:09,435 INFO  [main] index.IndexCollection (IndexCollection.java:384) - ============ Loading Parameters ============\n",
      "2024-06-18 16:37:09,435 INFO  [main] index.IndexCollection (IndexCollection.java:385) - DocumentCollection path: pyserini_bm25_index/docs\n",
      "2024-06-18 16:37:09,435 INFO  [main] index.IndexCollection (IndexCollection.java:386) - CollectionClass: JsonCollection\n",
      "2024-06-18 16:37:09,435 INFO  [main] index.IndexCollection (IndexCollection.java:387) - Generator: DefaultLuceneDocumentGenerator\n",
      "2024-06-18 16:37:09,435 INFO  [main] index.IndexCollection (IndexCollection.java:388) - Threads: 1\n",
      "2024-06-18 16:37:09,435 INFO  [main] index.IndexCollection (IndexCollection.java:389) - Language: zh\n",
      "2024-06-18 16:37:09,435 INFO  [main] index.IndexCollection (IndexCollection.java:390) - Stemmer: porter\n",
      "2024-06-18 16:37:09,435 INFO  [main] index.IndexCollection (IndexCollection.java:391) - Keep stopwords? false\n",
      "2024-06-18 16:37:09,435 INFO  [main] index.IndexCollection (IndexCollection.java:392) - Stopwords: null\n",
      "2024-06-18 16:37:09,435 INFO  [main] index.IndexCollection (IndexCollection.java:393) - Store positions? true\n",
      "2024-06-18 16:37:09,435 INFO  [main] index.IndexCollection (IndexCollection.java:394) - Store docvectors? true\n",
      "2024-06-18 16:37:09,436 INFO  [main] index.IndexCollection (IndexCollection.java:395) - Store document \"contents\" field? false\n",
      "2024-06-18 16:37:09,436 INFO  [main] index.IndexCollection (IndexCollection.java:396) - Store document \"raw\" field? true\n",
      "2024-06-18 16:37:09,436 INFO  [main] index.IndexCollection (IndexCollection.java:397) - Additional fields to index: []\n",
      "2024-06-18 16:37:09,436 INFO  [main] index.IndexCollection (IndexCollection.java:398) - Optimize (merge segments)? false\n",
      "2024-06-18 16:37:09,436 INFO  [main] index.IndexCollection (IndexCollection.java:399) - Whitelist: null\n",
      "2024-06-18 16:37:09,436 INFO  [main] index.IndexCollection (IndexCollection.java:400) - Pretokenized?: false\n",
      "2024-06-18 16:37:09,436 INFO  [main] index.IndexCollection (IndexCollection.java:401) - Index path: pyserini_bm25_index/index\n",
      "2024-06-18 16:37:09,437 INFO  [main] index.IndexCollection (IndexCollection.java:481) - ============ Indexing Collection ============\n",
      "2024-06-18 16:37:09,440 INFO  [main] index.IndexCollection (IndexCollection.java:459) - Using language-specific analyzer\n",
      "2024-06-18 16:37:09,441 INFO  [main] index.IndexCollection (IndexCollection.java:460) - Language: zh\n",
      "2024-06-18 16:37:09,481 INFO  [main] index.IndexCollection (IndexCollection.java:510) - Thread pool with 1 threads initialized.\n",
      "2024-06-18 16:37:09,481 INFO  [main] index.IndexCollection (IndexCollection.java:512) - Initializing collection in pyserini_bm25_index/docs\n",
      "2024-06-18 16:37:09,482 INFO  [main] index.IndexCollection (IndexCollection.java:521) - 1 file found\n",
      "2024-06-18 16:37:09,482 INFO  [main] index.IndexCollection (IndexCollection.java:522) - Starting to index...\n",
      "2024-06-18 16:37:09,541 DEBUG [pool-2-thread-1] index.IndexCollection$LocalIndexerThread (IndexCollection.java:345) - docs/docs.jsonl: 27 docs added.\n",
      "2024-06-18 16:37:10,078 INFO  [main] index.IndexCollection (IndexCollection.java:578) - Indexing Complete! 27 documents indexed\n",
      "2024-06-18 16:37:10,078 INFO  [main] index.IndexCollection (IndexCollection.java:579) - ============ Final Counter Values ============\n",
      "2024-06-18 16:37:10,079 INFO  [main] index.IndexCollection (IndexCollection.java:580) - indexed:               27\n",
      "2024-06-18 16:37:10,079 INFO  [main] index.IndexCollection (IndexCollection.java:581) - unindexable:            0\n",
      "2024-06-18 16:37:10,079 INFO  [main] index.IndexCollection (IndexCollection.java:582) - empty:                  0\n",
      "2024-06-18 16:37:10,079 INFO  [main] index.IndexCollection (IndexCollection.java:583) - skipped:                0\n",
      "2024-06-18 16:37:10,079 INFO  [main] index.IndexCollection (IndexCollection.java:584) - errors:                 0\n",
      "2024-06-18 16:37:10,086 INFO  [main] index.IndexCollection (IndexCollection.java:587) - Total 27 documents indexed in 00:00:00\n"
     ]
    }
   ],
   "source": [
    "from demeterchain.retrievers import PyseriniBM25Retriever\n",
    "\n",
    "retriever = PyseriniBM25Retriever.from_documents(documents, savepath=\"pyserini_bm25_index\")"
   ]
  },
  {
   "cell_type": "code",
   "execution_count": 2,
   "metadata": {},
   "outputs": [
    {
     "data": {
      "text/plain": [
       "[Document(page_content='鳳梨（Ananas comosus），俗名菠蘿、露兜子[1]，是原產於南美洲的熱帶水果，為禾本目鳳梨...', metadata={'source': 'wiki_datas/鳳梨.txt'}),\n",
       " Document(page_content='蘋果樹及其果實很容易出現許多真菌、細菌和害蟲問題，這些問題可以通過多種有機和非有機手段加以控制。 2...', metadata={'source': 'wiki_datas/蘋果.txt'}),\n",
       " Document(page_content='主要生長於熱帶、亞熱帶地區。原產於亞洲東南部熱帶、亞熱帶地區。佤語稱為「muah nbaex」[2]...', metadata={'source': 'wiki_datas/香蕉.txt'})]"
      ]
     },
     "execution_count": 2,
     "metadata": {},
     "output_type": "execute_result"
    }
   ],
   "source": [
    "# 測試\n",
    "retriever.invoke(\"甚麼水果產於南美洲\", k=3)"
   ]
  },
  {
   "cell_type": "code",
   "execution_count": 3,
   "metadata": {},
   "outputs": [
    {
     "name": "stderr",
     "output_type": "stream",
     "text": [
      "PyseriniBM25Retriever does not support save method, the index has been automatically saved in pyserini_bm25_index when built\n"
     ]
    }
   ],
   "source": [
    "# 此retriever使用java，不支援保存，只能在建立時保存，請勿使用此功能\n",
    "retriever.save(\"bm25\")"
   ]
  },
  {
   "cell_type": "code",
   "execution_count": 1,
   "metadata": {},
   "outputs": [
    {
     "name": "stdout",
     "output_type": "stream",
     "text": [
      "[2024-05-14 07:15:36,870] [INFO] [real_accelerator.py:133:get_accelerator] Setting ds_accelerator to cuda (auto detect)\n"
     ]
    }
   ],
   "source": [
    "# 讀取\n",
    "from demeterchain.retrievers import PyseriniBM25Retriever\n",
    "\n",
    "retriever = PyseriniBM25Retriever.load(\"pyserini_bm25_index\")"
   ]
  },
  {
   "cell_type": "markdown",
   "metadata": {},
   "source": [
    "# 設定回答模型"
   ]
  },
  {
   "cell_type": "code",
   "execution_count": null,
   "metadata": {},
   "outputs": [],
   "source": [
    "! huggingface-cli login"
   ]
  },
  {
   "cell_type": "code",
   "execution_count": 5,
   "metadata": {},
   "outputs": [],
   "source": [
    "model_name_or_path = \"/user_data/demetergpt/model/taide_noanswer\"#\"NchuNLP/taide-qa\" # 需要申請權限"
   ]
  },
  {
   "cell_type": "code",
   "execution_count": 6,
   "metadata": {},
   "outputs": [
    {
     "data": {
      "application/vnd.jupyter.widget-view+json": {
       "model_id": "61c29f124a204a0197612eeaf1bfcc57",
       "version_major": 2,
       "version_minor": 0
      },
      "text/plain": [
       "Loading checkpoint shards:   0%|          | 0/2 [00:00<?, ?it/s]"
      ]
     },
     "metadata": {},
     "output_type": "display_data"
    },
    {
     "name": "stderr",
     "output_type": "stream",
     "text": [
      "/usr/local/lib/python3.10/site-packages/torch/_utils.py:776: UserWarning: TypedStorage is deprecated. It will be removed in the future and UntypedStorage will be the only storage class. This should only matter to you if you are using storages directly.  To access UntypedStorage directly, use tensor.untyped_storage() instead of tensor.storage()\n",
      "  return self.fget.__get__(instance, owner)()\n"
     ]
    }
   ],
   "source": [
    "from demeterchain.models import GenerativeModel\n",
    "from demeterchain.utils import QAModelConfig, PromptTemplate\n",
    "\n",
    "\n",
    "model_config = QAModelConfig(\n",
    "    model_name_or_path = model_name_or_path,\n",
    "    device_map = \"auto\",\n",
    "    quantize = \"bitsandbytes-nf4\",\n",
    "    noanswer_str = \"無法回答。\",\n",
    "    template = PromptTemplate(\n",
    "        input_variables = [\"doc\", \"query\"],\n",
    "        template=\"[INST] <<SYS>>\\n請根據提供的問題，從提供的內文中尋找答案並回答，回答時只需要輸出答案，不需輸出其他資訊，如果從提供的內文無法找到答案，請回答\\\"無法回答\\\"\\n<</SYS>>\\n\\n問題:\\n{query}\\n\\n內文:\\n{doc}\\n [/INST]答案:\\n\"\n",
    "    )\n",
    ")\n",
    "reader = GenerativeModel(config=model_config)"
   ]
  },
  {
   "cell_type": "code",
   "execution_count": 7,
   "metadata": {},
   "outputs": [
    {
     "name": "stderr",
     "output_type": "stream",
     "text": [
      "100%|██████████| 4/4 [00:02<00:00,  1.44it/s]"
     ]
    },
    {
     "name": "stdout",
     "output_type": "stream",
     "text": [
      "{'蘋果': Document(page_content='蘋果是紅色的水果', metadata={}), '草莓': Document(page_content='草莓不是黑的，是紅色的水果', metadata={})}\n"
     ]
    },
    {
     "name": "stderr",
     "output_type": "stream",
     "text": [
      "\n"
     ]
    }
   ],
   "source": [
    "# 測試\n",
    "from demeterchain.utils import Document\n",
    "\n",
    "inputs = {\"query\": \"什麼水果是紅色的?\"}\n",
    "docs = [\n",
    "    \"蘋果是紅色的水果\",\n",
    "    \"香蕉是黃色的水果\",\n",
    "    \"我是小明，今天天氣很好\",\n",
    "    \"草莓不是黑的，是紅色的水果\"]\n",
    "docs = [Document(page_content=doc) for doc in docs]\n",
    "answer_doc = reader.get_answer(inputs, docs)\n",
    "\n",
    "print(answer_doc)"
   ]
  },
  {
   "cell_type": "markdown",
   "metadata": {},
   "source": [
    "# 建立HyDE與最後摘要所要使用的LLM"
   ]
  },
  {
   "cell_type": "code",
   "execution_count": 13,
   "metadata": {},
   "outputs": [],
   "source": [
    "# 請調整成自己需要的LLM\n",
    "token = \"your_token\" # Please fill in your token\n",
    "host = \"https://api.openai.com/v1\"\n",
    "model = \"gpt-4-turbo\""
   ]
  },
  {
   "cell_type": "code",
   "execution_count": 14,
   "metadata": {},
   "outputs": [],
   "source": [
    "from demeterchain.utils import MessageTemplate\n",
    "from demeterchain.llms import ChatCompletionsLLM\n",
    "\n",
    "# https://arxiv.org/abs/2212.10496\n",
    "hyde_template = MessageTemplate(\n",
    "    input_variables = [\"query\"],\n",
    "    template=[\n",
    "        {\"role\": \"system\", \"content\": \"請幫我解答以下問題，請用中文回答。\",},\n",
    "        {\"role\": \"user\", \"content\": \"{query}\"}\n",
    "    ]\n",
    ")\n",
    "hyde_llm = ChatCompletionsLLM(\n",
    "    host = host,\n",
    "    model = model,\n",
    "    token = token,\n",
    "    template= hyde_template,\n",
    "    generation_config={\n",
    "        \"max_tokens\": 200,\n",
    "        \"temperature\": 0.9,\n",
    "    }\n",
    ")"
   ]
  },
  {
   "cell_type": "code",
   "execution_count": 15,
   "metadata": {},
   "outputs": [
    {
     "data": {
      "text/plain": [
       "'紅色的水果有：櫻桃、櫻瓜、石榴、櫻桃、胡椒玫瑰、西瓜、李子、楓糖樹、青檸、芒果、蓮霧。'"
      ]
     },
     "execution_count": 15,
     "metadata": {},
     "output_type": "execute_result"
    }
   ],
   "source": [
    "hyde_llm({\"query\": \"甚麼水果是紅色的?\"})"
   ]
  },
  {
   "cell_type": "code",
   "execution_count": 16,
   "metadata": {},
   "outputs": [],
   "source": [
    "from demeterchain.utils import MessageTemplate\n",
    "from demeterchain.llms import ChatCompletionsLLM\n",
    "\n",
    "summary_template = MessageTemplate(\n",
    "    input_variables = [\"query\", \"answers\"],\n",
    "    template=[\n",
    "        {\"role\": \"system\", \"content\": \"請幫完成任務以下問題，請用中文回答。\",},\n",
    "        {\"role\": \"user\", \"content\": \"我有以下片段關於{query}的答案：{answers} 你可以試著幫我將結果進行統整摘要嗎？\"}\n",
    "    ]\n",
    ")\n",
    "summary_llm = ChatCompletionsLLM(\n",
    "    host = host,\n",
    "    model = model,\n",
    "    token = token,\n",
    "    template= summary_template,\n",
    "    generation_config={\n",
    "        \"max_tokens\": 600,\n",
    "        \"temperature\": 0.9,\n",
    "    }\n",
    ")"
   ]
  },
  {
   "cell_type": "code",
   "execution_count": 18,
   "metadata": {},
   "outputs": [
    {
     "data": {
      "text/plain": [
       "'根據所提供的片段，能歸納出以下結論：\\n\\n該片段提及的紅色水果有：櫻桃、櫻桃、石榴。 \\n\\n然而需要注意的是，雖然這些水果都帶有紅色，但各自的紅色深淺度不同，紅石榴的紅色較深，櫻桃則帶有亮麗的紅色，而櫻桃的紅色則偏向玫紅色。 \\n\\n此外，還需考量到有些水果在成熟過程中會從綠色轉變為紅色，例如一些型別的辣椒或番茄，因此僅根據提及的水果種類，無法確定它們是否都是始終帶有紅色的。 \\n'"
      ]
     },
     "execution_count": 18,
     "metadata": {},
     "output_type": "execute_result"
    }
   ],
   "source": [
    "summary_llm({\"query\": \"甚麼水果是紅色的?\", \"answers\": \"櫻桃,櫻瓜,石榴\"})"
   ]
  },
  {
   "cell_type": "markdown",
   "metadata": {},
   "source": [
    "# 串接全部套件"
   ]
  },
  {
   "cell_type": "code",
   "execution_count": 7,
   "metadata": {},
   "outputs": [],
   "source": [
    "from demeterchain.utils import QAConfig\n",
    "from demeterchain.chains import RetrievalQA\n",
    "\n",
    "qa = RetrievalQA(\n",
    "    reader=reader, \n",
    "    retriever=retriever, \n",
    "    #hyde_llm=hyde_llm,\n",
    "    #summary_llm=summary_llm\n",
    ")\n",
    "qa_config = QAConfig(retrieve_k = 3)"
   ]
  },
  {
   "cell_type": "code",
   "execution_count": 8,
   "metadata": {},
   "outputs": [
    {
     "name": "stderr",
     "output_type": "stream",
     "text": [
      "100%|██████████| 3/3 [00:22<00:00,  7.41s/it]\n"
     ]
    }
   ],
   "source": [
    "result = qa({\"query\": \"甚麼水果產於南美洲?\"}, qa_config=qa_config)"
   ]
  },
  {
   "cell_type": "code",
   "execution_count": 9,
   "metadata": {},
   "outputs": [
    {
     "name": "stdout",
     "output_type": "stream",
     "text": [
      "摘要結果: None\n",
      "預測答案: ['鳳梨']\n"
     ]
    }
   ],
   "source": [
    "answers = [answer.answer for answer in result.answers]\n",
    "print(f\"摘要結果: {result.summary}\")\n",
    "print(f\"預測答案: {answers}\")"
   ]
  },
  {
   "cell_type": "code",
   "execution_count": 22,
   "metadata": {},
   "outputs": [
    {
     "name": "stderr",
     "output_type": "stream",
     "text": [
      "100%|██████████| 3/3 [00:03<00:00,  1.15s/it]"
     ]
    },
    {
     "name": "stdout",
     "output_type": "stream",
     "text": [
      "['很抱歉，模型無法根據現有資料集回答您的問題。']\n"
     ]
    },
    {
     "name": "stderr",
     "output_type": "stream",
     "text": [
      "\n"
     ]
    }
   ],
   "source": [
    "result = qa({\"query\": \"恐龍好吃嗎?\"}, qa_config=qa_config)\n",
    "answers = [answer.answer for answer in result.answers]\n",
    "print(answers)"
   ]
  }
 ],
 "metadata": {
  "kernelspec": {
   "display_name": "Python 3 (ipykernel)",
   "language": "python",
   "name": "python3"
  },
  "language_info": {
   "codemirror_mode": {
    "name": "ipython",
    "version": 3
   },
   "file_extension": ".py",
   "mimetype": "text/x-python",
   "name": "python",
   "nbconvert_exporter": "python",
   "pygments_lexer": "ipython3",
   "version": "3.10.12"
  }
 },
 "nbformat": 4,
 "nbformat_minor": 2
}
