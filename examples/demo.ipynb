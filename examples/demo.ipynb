{
 "cells": [
  {
   "cell_type": "code",
   "execution_count": null,
   "metadata": {},
   "outputs": [],
   "source": [
    "! git clone https://github.com/NCHU-NLP-Lab/demeterchain.git\n",
    "! pip install demeterchain"
   ]
  },
  {
   "cell_type": "code",
   "execution_count": null,
   "metadata": {},
   "outputs": [],
   "source": [
    "cd demeterchain/examples"
   ]
  },
  {
   "cell_type": "markdown",
   "metadata": {},
   "source": [
    "# 讀取文件"
   ]
  },
  {
   "cell_type": "code",
   "execution_count": 1,
   "metadata": {},
   "outputs": [
    {
     "name": "stderr",
     "output_type": "stream",
     "text": [
      "100%|██████████| 12/12 [00:00<00:00, 17741.15it/s]\n"
     ]
    }
   ],
   "source": [
    "from demeterchain.loaders import TextLoader\n",
    "from demeterchain.splitters import TextSplitter\n",
    "\n",
    "loader = TextLoader('wiki_datas/', glob='*.txt', show_progress=True)\n",
    "documents = loader.load()"
   ]
  },
  {
   "cell_type": "code",
   "execution_count": 2,
   "metadata": {},
   "outputs": [
    {
     "data": {
      "text/plain": [
       "[Document(page_content='蘋果樹（學名：Malus domestica）是薔薇科蘋果亞科蘋果屬植物，為落葉喬木，在世界上廣泛種...', metadata={'source': 'wiki_datas/蘋果.txt'}),\n",
       " Document(page_content='智慧型手機（英語：smartphone）是一種既可用來撥打移動電話具有多功能任務處理移動計算的行動裝...', metadata={'source': 'wiki_datas/智慧型手機.txt'}),\n",
       " Document(page_content='香蕉（學名：Musa × paradisiaca），又名甘蕉、芎蕉、芽蕉，弓蕉（閩南語：king-t...', metadata={'source': 'wiki_datas/香蕉.txt'}),\n",
       " Document(page_content='太陽餅，是一種甜餡薄餅，一般內餡是麥芽糖，源起於台中市神岡區社口一帶林家崑派的麥芽餅，是台灣台中市的...', metadata={'source': 'wiki_datas/太陽餅.txt'}),\n",
       " Document(page_content='草莓（學名：Fragaria × ananassa），中國大陸和台灣稱草莓，在香港常稱為士多啤梨（英...', metadata={'source': 'wiki_datas/草莓.txt'}),\n",
       " Document(page_content='冰箱[註 1]，是以低溫保存食物等物品的機械設備。工業用冰箱適用於工業環境，如餐廳、食品加工和超市。...', metadata={'source': 'wiki_datas/冰箱.txt'}),\n",
       " Document(page_content='筆記型電腦（英語：notebook computer）又稱膝上電腦（laptop computer）...', metadata={'source': 'wiki_datas/筆記型電腦.txt'}),\n",
       " Document(page_content='稻（學名：Oryza sativa），古稱禾稻[1]，其果實為可作為糧食食用部位，稱米，是禾本科稻屬...', metadata={'source': 'wiki_datas/水稻.txt'}),\n",
       " Document(page_content='民主進步黨（英語：Democratic Progressive Party，縮寫DPP），簡稱民進黨...', metadata={'source': 'wiki_datas/民主進步黨.txt'}),\n",
       " Document(page_content='國立中興大學（簡稱興大、NCHU），是一所校本部位於台灣臺中市南區的國立研究型綜合大學，起源自臺灣總...', metadata={'source': 'wiki_datas/中興大學.txt'}),\n",
       " Document(page_content='鳳梨（Ananas comosus），俗名菠蘿、露兜子[1]，是原產於南美洲的熱帶水果，為禾本目鳳梨...', metadata={'source': 'wiki_datas/鳳梨.txt'}),\n",
       " Document(page_content='國立臺灣大學，簡稱臺灣大學、臺大、NTU，1928年創立於臺灣臺北市，是臺灣第一所高等教育機構，也是...', metadata={'source': 'wiki_datas/臺灣大學.txt'})]"
      ]
     },
     "execution_count": 2,
     "metadata": {},
     "output_type": "execute_result"
    }
   ],
   "source": [
    "documents"
   ]
  },
  {
   "cell_type": "markdown",
   "metadata": {},
   "source": [
    "# 設定retriever"
   ]
  },
  {
   "cell_type": "code",
   "execution_count": 22,
   "metadata": {},
   "outputs": [
    {
     "name": "stderr",
     "output_type": "stream",
     "text": [
      "huggingface/tokenizers: The current process just got forked, after parallelism has already been used. Disabling parallelism to avoid deadlocks...\n",
      "To disable this warning, you can either:\n",
      "\t- Avoid using `tokenizers` before the fork if possible\n",
      "\t- Explicitly set the environment variable TOKENIZERS_PARALLELISM=(true | false)\n"
     ]
    },
    {
     "name": "stdout",
     "output_type": "stream",
     "text": [
      "Defaulting to user installation because normal site-packages is not writeable\n",
      "Requirement already satisfied: rank_bm25 in /user_data/.local/lib/python3.10/site-packages (0.2.2)\n",
      "Requirement already satisfied: jieba in /user_data/.local/lib/python3.10/site-packages (0.42.1)\n",
      "Requirement already satisfied: numpy in /usr/local/lib/python3.10/site-packages (from rank_bm25) (1.24.1)\n",
      "Note: you may need to restart the kernel to use updated packages.\n"
     ]
    }
   ],
   "source": [
    "pip install rank_bm25 jieba"
   ]
  },
  {
   "cell_type": "code",
   "execution_count": 3,
   "metadata": {},
   "outputs": [
    {
     "name": "stderr",
     "output_type": "stream",
     "text": [
      "Building prefix dict from the default dictionary ...\n",
      "Loading model from cache /tmp/jieba.cache\n",
      "Loading model cost 0.358 seconds.\n",
      "Prefix dict has been built successfully.\n"
     ]
    }
   ],
   "source": [
    "from demeterchain.retrievers import RankBM25Retriever\n",
    "\n",
    "retriever = RankBM25Retriever.from_documents(documents)"
   ]
  },
  {
   "cell_type": "code",
   "execution_count": 4,
   "metadata": {},
   "outputs": [
    {
     "data": {
      "text/plain": [
       "[Document(page_content='鳳梨（Ananas comosus），俗名菠蘿、露兜子[1]，是原產於南美洲的熱帶水果，為禾本目鳳梨...', metadata={'source': 'wiki_datas/鳳梨.txt'}),\n",
       " Document(page_content='草莓（學名：Fragaria × ananassa），中國大陸和台灣稱草莓，在香港常稱為士多啤梨（英...', metadata={'source': 'wiki_datas/草莓.txt'}),\n",
       " Document(page_content='蘋果樹（學名：Malus domestica）是薔薇科蘋果亞科蘋果屬植物，為落葉喬木，在世界上廣泛種...', metadata={'source': 'wiki_datas/蘋果.txt'})]"
      ]
     },
     "execution_count": 4,
     "metadata": {},
     "output_type": "execute_result"
    }
   ],
   "source": [
    "# 測試\n",
    "retriever.invoke(\"甚麼水果產於南美洲\", k=3)"
   ]
  },
  {
   "cell_type": "code",
   "execution_count": 4,
   "metadata": {},
   "outputs": [],
   "source": [
    "# 保存\n",
    "retriever.save(\"bm25\")"
   ]
  },
  {
   "cell_type": "code",
   "execution_count": 4,
   "metadata": {},
   "outputs": [],
   "source": [
    "# 讀取\n",
    "from demeterchain.retrievers import RankBM25Retriever\n",
    "\n",
    "retriever = RankBM25Retriever.load(\"bm25\")"
   ]
  },
  {
   "cell_type": "markdown",
   "metadata": {},
   "source": [
    "# 設定回答模型"
   ]
  },
  {
   "cell_type": "code",
   "execution_count": null,
   "metadata": {},
   "outputs": [],
   "source": [
    "! huggingface-cli login"
   ]
  },
  {
   "cell_type": "code",
   "execution_count": 1,
   "metadata": {},
   "outputs": [],
   "source": [
    "model_name_or_path = \"NchuNLP/taide-qa\" # 需要申請權限"
   ]
  },
  {
   "cell_type": "code",
   "execution_count": 6,
   "metadata": {},
   "outputs": [
    {
     "name": "stdout",
     "output_type": "stream",
     "text": [
      "[2024-05-14 07:10:15,567] [INFO] [real_accelerator.py:133:get_accelerator] Setting ds_accelerator to cuda (auto detect)\n"
     ]
    },
    {
     "data": {
      "application/vnd.jupyter.widget-view+json": {
       "model_id": "44bfd2aa80ef4a8dbcaf48dc61c2a695",
       "version_major": 2,
       "version_minor": 0
      },
      "text/plain": [
       "Loading checkpoint shards:   0%|          | 0/2 [00:00<?, ?it/s]"
      ]
     },
     "metadata": {},
     "output_type": "display_data"
    },
    {
     "name": "stderr",
     "output_type": "stream",
     "text": [
      "/usr/local/lib/python3.10/site-packages/torch/_utils.py:776: UserWarning: TypedStorage is deprecated. It will be removed in the future and UntypedStorage will be the only storage class. This should only matter to you if you are using storages directly.  To access UntypedStorage directly, use tensor.untyped_storage() instead of tensor.storage()\n",
      "  return self.fget.__get__(instance, owner)()\n",
      "You are calling `save_pretrained` to a 4-bit converted model, but your `bitsandbytes` version doesn't support it. If you want to save 4-bit models, make sure to have `bitsandbytes>=0.41.3` installed.\n"
     ]
    }
   ],
   "source": [
    "from demeterchain.models import GenerativeModel\n",
    "from demeterchain.utils import QAModelConfig, PromptTemplate\n",
    "\n",
    "\n",
    "model_config = QAModelConfig(\n",
    "    model_name_or_path = model_name_or_path,\n",
    "    device_map = \"auto\",\n",
    "    quantize = \"bitsandbytes-nf4\",\n",
    "    noanswer_str = \"無法回答。\",\n",
    "    template = PromptTemplate(\n",
    "        input_variables = [\"doc\", \"query\"],\n",
    "        template=\"[INST] <<SYS>>\\n請根據提供的問題，從提供的內文中尋找答案並回答，回答時只需要輸出答案，不需輸出其他資訊，如果從提供的內文無法找到答案，請回答\\\"無法回答\\\"\\n<</SYS>>\\n\\n問題:\\n{query}\\n\\n內文:\\n{doc}\\n [/INST]答案:\\n\"\n",
    "     )\n",
    ")\n",
    "reader = GenerativeModel(config=model_config)"
   ]
  },
  {
   "cell_type": "code",
   "execution_count": 7,
   "metadata": {},
   "outputs": [
    {
     "name": "stderr",
     "output_type": "stream",
     "text": [
      "100%|██████████| 4/4 [00:02<00:00,  1.36it/s]"
     ]
    },
    {
     "name": "stdout",
     "output_type": "stream",
     "text": [
      "{'蘋果': Document(page_content='蘋果是紅色的水果', metadata={}), '草莓': Document(page_content='草莓不是黑的，是紅色的水果', metadata={})}\n"
     ]
    },
    {
     "name": "stderr",
     "output_type": "stream",
     "text": [
      "\n"
     ]
    }
   ],
   "source": [
    "# 測試\n",
    "from demeterchain.utils import Document\n",
    "\n",
    "inputs = {\"query\": \"什麼水果是紅色的?\"}\n",
    "docs = [\n",
    "    \"蘋果是紅色的水果\",\n",
    "    \"香蕉是黃色的水果\",\n",
    "    \"我是小明，今天天氣很好\",\n",
    "    \"草莓不是黑的，是紅色的水果\"]\n",
    "docs = [Document(page_content=doc) for doc in docs]\n",
    "answer_doc = reader.get_answer(inputs, docs)\n",
    "\n",
    "print(answer_doc)"
   ]
  },
  {
   "cell_type": "markdown",
   "metadata": {},
   "source": [
    "# 串接全部套件"
   ]
  },
  {
   "cell_type": "code",
   "execution_count": 8,
   "metadata": {},
   "outputs": [],
   "source": [
    "from demeterchain.utils import QAConfig\n",
    "from demeterchain.chains import RetrievalQA\n",
    "\n",
    "qa = RetrievalQA(reader=reader, retriever=retriever,)\n",
    "qa_config = QAConfig(retrieve_k = 3)"
   ]
  },
  {
   "cell_type": "code",
   "execution_count": 9,
   "metadata": {},
   "outputs": [
    {
     "name": "stderr",
     "output_type": "stream",
     "text": [
      "100%|██████████| 3/3 [00:03<00:00,  1.18s/it]"
     ]
    },
    {
     "name": "stdout",
     "output_type": "stream",
     "text": [
      "['很抱歉，模型無法根據現有資料集回答您的問題。']\n"
     ]
    },
    {
     "name": "stderr",
     "output_type": "stream",
     "text": [
      "\n"
     ]
    }
   ],
   "source": [
    "result = qa({\"query\": \"恐龍好吃嗎?\"}, qa_config=qa_config)\n",
    "answers = [answer.answer for answer in result.answers]\n",
    "print(answers)"
   ]
  },
  {
   "cell_type": "code",
   "execution_count": 10,
   "metadata": {},
   "outputs": [
    {
     "name": "stderr",
     "output_type": "stream",
     "text": [
      "100%|██████████| 3/3 [00:01<00:00,  1.71it/s]"
     ]
    },
    {
     "name": "stdout",
     "output_type": "stream",
     "text": [
      "['國立中興大學']\n"
     ]
    },
    {
     "name": "stderr",
     "output_type": "stream",
     "text": [
      "\n"
     ]
    }
   ],
   "source": [
    "result = qa({\"query\": \"哪間大學的農業科學很厲害?\"}, qa_config=qa_config)\n",
    "answers = [answer.answer for answer in result.answers]\n",
    "print(answers)"
   ]
  },
  {
   "cell_type": "code",
   "execution_count": 11,
   "metadata": {},
   "outputs": [
    {
     "name": "stderr",
     "output_type": "stream",
     "text": [
      "100%|██████████| 3/3 [00:02<00:00,  1.29it/s]"
     ]
    },
    {
     "name": "stdout",
     "output_type": "stream",
     "text": [
      "['民主進步黨']\n"
     ]
    },
    {
     "name": "stderr",
     "output_type": "stream",
     "text": [
      "\n"
     ]
    }
   ],
   "source": [
    "result = qa({\"query\": \"DPP是甚麼的簡寫?\"}, qa_config=qa_config)\n",
    "answers = [answer.answer for answer in result.answers]\n",
    "print(answers)"
   ]
  }
 ],
 "metadata": {
  "kernelspec": {
   "display_name": "Python 3 (ipykernel)",
   "language": "python",
   "name": "python3"
  }
 },
 "nbformat": 4,
 "nbformat_minor": 2
}
